{
 "cells": [
  {
   "cell_type": "markdown",
   "metadata": {},
   "source": [
    "# National-Level Foresight: Evaluating Masdar City with PAL\n",
    "\n",
    "This notebook evaluates Masdar City under UAE Vision 2030 using PAL."
   ]
  },
  {
   "cell_type": "code",
   "execution_count": null,
   "metadata": {},
   "outputs": [],
   "source": [
    "import pandas as pd\n",
    "import numpy as np\n",
    "import matplotlib.pyplot as plt\n",
    "import seaborn as sns\n",
    "from src.pal_model import PAL\n",
    "\n",
    "sns.set_style('whitegrid')"
   ]
  },
  {
   "cell_type": "code",
   "execution_count": null,
   "metadata": {},
   "outputs": [],
   "source": [
    "# Define Masdar City data\n",
    "project_data = {\n",
    "    'v_innov': 1.00,  # Sustainable energy patents\n",
    "    'v_impact': 0.95,  # High ESG score\n",
    "    'v_fin': 0.90,  # Strong ROI\n",
    "    's_reg': 0.00,  # ADNOC support\n",
    "    's_risk': 0.10,  # Low risk\n",
    "    's_skep': 0.00,  # Positive media\n",
    "    'c': 0.00,  # Global ESG demand\n",
    "    'v_market': 25000000000  # Market value in USD\n",
    "}\n",
    "\n",
    "# Initialize PAL\n",
    "pal = PAL()\n",
    "\n",
    "# Evaluate project\n",
    "p_approval, t_months, s_deal, decision = pal.evaluate(project_data)\n",
    "\n",
    "print(f'Approval Probability: {p_approval:.2f}')\n",
    "print(f'Timeline: {t_months:.1f} months')\n",
    "print(f'Deal Value: ${s_deal:,.0f}')\n",
    "print(f'Decision: {decision}')"
   ]
  },
  {
   "cell_type": "code",
   "execution_count": null,
   "metadata": {},
   "outputs": [],
   "source": [
    "# Barplot for parameters\n",
    "params = ['V_innov', 'V_impact', 'V_fin', 'S_reg', 'S_risk', 'S_skep']\n",
    "values = [project_data[k] for k in ['v_innov', 'v_impact', 'v_fin', 's_reg', 's_risk', 's_skep']]\n",
    "\n",
    "plt.figure(figsize=(10, 5))\n",
    "sns.barplot(x=params, y=values)\n",
    "plt.title('Masdar City Parameters')\n",
    "plt.ylabel('Score [0,1]')\n",
    "plt.show()"
   ]
  }
 ]
}

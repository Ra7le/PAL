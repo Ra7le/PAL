{
 "cells": [
  {
   "cell_type": "markdown",
   "metadata": {},
   "source": [
    "# ESG Case Study: Evaluating a Solar Energy Project with PAL\n",
    "\n",
    "This notebook demonstrates the application of the Project Approval Law (PAL) to evaluate an ESG-focused solar energy project in India, inspired by case studies in the PAL framework."
   ]
  },
  {
   "cell_type": "code",
   "execution_count": null,
   "metadata": {},
   "outputs": [],
   "source": [
    "import pandas as pd\n",
    "import numpy as np\n",
    "import matplotlib.pyplot as plt\n",
    "import seaborn as sns\n",
    "from src.pal_model import PAL\n",
    "\n",
    "# Set plot style\n",
    "sns.set_style('whitegrid')"
   ]
  },
  {
   "cell_type": "code",
   "execution_count": null,
   "metadata": {},
   "outputs": [],
   "source": [
    "# Define project data (solar energy project in India)\n",
    "project_data = {\n",
    "    'v_innov': 0.95,  # High due to advanced solar tech patents\n",
    "    'v_impact': 0.92,  # High social impact (rural energy access, jobs)\n",
    "    'v_fin': 0.85,  # Strong ROI\n",
    "    's_reg': 0.10,  # Low regulatory barriers\n",
    "    's_risk': 0.15,  # Moderate market risks\n",
    "    's_skep': 0.05,  # Low public skepticism (positive media)\n",
    "    'c': 0.28,  # Contextual complexity (cultural, economic factors)\n",
    "    'v_market': 100000000  # Market value in USD\n",
    "}\n",
    "\n",
    "# Initialize PAL\n",
    "pal = PAL()\n",
    "\n",
    "# Evaluate project\n",
    "p_approval, t_months, s_deal, decision = pal.evaluate(project_data)\n",
    "\n",
    "print(f'Approval Probability: {p_approval:.2f}')\n",
    "print(f'Timeline: {t_months:.1f} months')\n",
    "print(f'Deal Value: ${s_deal:,.0f}')\n",
    "print(f'Decision: {decision}')"
   ]
  },
  {
   "cell_type": "code",
   "execution_count": null,
   "metadata": {},
   "outputs": [],
   "source": [
    "# Visualize parameters (radar chart)\n",
    "labels = ['Innovation', 'Social Impact', 'Financial', 'Regulation', 'Risk', 'Skepticism']\n",
    "values = [project_data['v_innov'], project_data['v_impact'], project_data['v_fin'],\n",
    "          project_data['s_reg'], project_data['s_risk'], project_data['s_skep']]\n",
    "\n",
    "angles = np.linspace(0, 2*np.pi, len(labels), endpoint=False).tolist()\n",
    "values += values[:1]\n",
    "angles += angles[:1]\n",
    "\n",
    "fig, ax = plt.subplots(figsize=(6, 6), subplot_kw=dict(polar=True))\n",
    "ax.fill(angles, values, color='blue', alpha=0.25)\n",
    "ax.set_xticks(angles[:-1])\n",
    "ax.set_xticklabels(labels)\n",
    "plt.title('Project Parameters (Solar Energy Project)')\n",
    "plt.show()"
   ]
  },
  {
   "cell_type": "code",
   "execution_count": null,
   "metadata": {},
   "outputs": [],
   "source": [
    "# Barplot for decision explanation\n",
    "components = ['V_eff', 'S_eff']\n",
    "v_total = np.dot([1/3]*3, [project_data['v_innov'], project_data['v_impact'], project_data['v_fin']])\n",
    "s_total = np.dot([1/3]*3, [project_data['s_reg'], project_data['s_risk'], project_data['s_skep']])\n",
    "v_eff = v_total / (1 + 1.5 * s_total + project_data['c'])\n",
    "s_eff = s_total / (1 + 0.5 * v_total + project_data['c'])\n",
    "\n",
    "plt.figure(figsize=(8, 4))\n",
    "sns.barplot(x=components, y=[v_eff, s_eff])\n",
    "plt.title('Effective Value vs. Resistance')\n",
    "plt.ylabel('Score')\n",
    "plt.show()\n",
    "\n",
    "print('Explanation:')\n",
    "print(f'- High V_eff ({v_eff:.2f}) due to strong innovation, social impact, and financial attractiveness.')\n",
    "print(f'- Low S_eff ({s_eff:.2f}) due to minimal regulatory, market, and public resistance.')\n",
    "print(f'- Approval probability ({p_approval:.2f}) reflects V_eff significantly outweighing S_eff.')"
   ]
  }
 ]
}

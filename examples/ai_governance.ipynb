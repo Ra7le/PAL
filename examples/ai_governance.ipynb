{
 "cells": [
  {
   "cell_type": "markdown",
   "metadata": {},
   "source": [
    "# AI Governance Case Study: Evaluating a Generative AI Model with PAL\n",
    "\n",
    "This notebook applies PAL to evaluate a generative AI model for public service automation, aligned with EU AI Act compliance."
   ]
  },
  {
   "cell_type": "code",
   "execution_count": null,
   "metadata": {},
   "outputs": [],
   "source": [
    "import pandas as pd\n",
    "import numpy as np\n",
    "import matplotlib.pyplot as plt\n",
    "import seaborn as sns\n",
    "from src.pal_model import PAL\n",
    "\n",
    "sns.set_style('whitegrid')"
   ]
  },
  {
   "cell_type": "code",
   "execution_count": null,
   "metadata": {},
   "outputs": [],
   "source": [
    "# Define AI project data\n",
    "project_data = {\n",
    "    'v_innov': 0.90,  # High due to patent filings\n",
    "    'v_impact': 0.70,  # Moderate social impact\n",
    "    'v_fin': 0.90,  # High ROI\n",
    "    's_reg': 0.40,  # EU AI Act compliance costs\n",
    "    's_risk': 0.30,  # Bias risks\n",
    "    's_skep': 0.30,  # Public ethical concerns\n",
    "    'c': 0.25,  # Evolving AI ethics standards\n",
    "    'v_market': 200000000  # Market value in USD\n",
    "}\n",
    "\n",
    "# Initialize PAL\n",
    "pal = PAL()\n",
    "\n",
    "# Evaluate project\n",
    "p_approval, t_months, s_deal, decision = pal.evaluate(project_data)\n",
    "\n",
    "print(f'Approval Probability: {p_approval:.2f}')\n",
    "print(f'Timeline: {t_months:.1f} months')\n",
    "print(f'Deal Value: ${s_deal:,.0f}')\n",
    "print(f'Decision: {decision}')"
   ]
  },
  {
   "cell_type": "code",
   "execution_count": null,
   "metadata": {},
   "outputs": [],
   "source": [
    "# Barplot for parameters\n",
    "params = ['V_innov', 'V_impact', 'V_fin', 'S_reg', 'S_risk', 'S_skep']\n",
    "values = [project_data[k] for k in ['v_innov', 'v_impact', 'v_fin', 's_reg', 's_risk', 's_skep']]\n",
    "\n",
    "plt.figure(figsize=(10, 5))\n",
    "sns.barplot(x=params, y=values)\n",
    "plt.title('AI Project Parameters')\n",
    "plt.ylabel('Score [0,1]')\n",
    "plt.show()"
   ]
  }
 ]
}
